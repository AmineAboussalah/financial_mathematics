{
 "cells": [
  {
   "cell_type": "markdown",
   "metadata": {},
   "source": [
    "# Introduction\n",
    "\n",
    "<b>Goal:</b> The goal of this chapter is to prove two important theorems of finance by generalizing the binomial models seen in the previous lessons.\n",
    "\n",
    "## The model setup\n",
    "\n",
    "We will consider two points in time: t= 0 and t=1 as well as a finite sample space \\Omega = \\{ \\omega_{1}, ..., \\omega_{M} \\} with a probability measure defined on \\mathcal{F}=2^{\\Omega}.\n",
    "\n",
    "There are on the market N+1 assets and we will denote the price of asset number i at time t by:\n",
    "\n",
    "$$\n",
    "S_{t} = (S_{t}^{0}, ..., S_{t}^{N})\n",
    "$$\n",
    "\n",
    "with S_{0} being deterministic and S_{1}\\in \\mathcal{F}. Furthermore, we will use the strictly positive asset S^{0} as a numeraire asset."
   ]
  },
  {
   "cell_type": "markdown",
   "metadata": {},
   "source": [
    "# Arbitrage\n",
    "\n",
    "Using the asset 0 as a numeraire will allow us to compare money today, $t = 0$, to money in the future, $t = 1$.\n",
    "\n",
    "<b>Definition:</b> The normalized price process is defined by: \n",
    "\n",
    "$$\n",
    "Z_{t}=\\frac{S_{t}}{S^{0}_{t}} = (\\frac{S_{t}^{0}}{S_{t}^{0}}, ..., \\frac{S_{t}^{N}}{S_{t}^{0}})\n",
    "$$\n",
    "\n",
    "<u>Remark:</u> If $S_{0}$ is a bank account we are simply discounting everything to present value.\n",
    "\n",
    "<b>Definition:</b> Let's define a portfolio $h = (h^{0}, ..., h^{N})^{T}$, where the super-index T denotes transpose.\n",
    "We define the value process $V^{S}$ of the portfolio as:\n",
    "\n",
    "$$\n",
    "V^{S}(t) = \\sum_{i=0}^{N} h_{i}S^{i}_{t}\n",
    "$$\n",
    "\n",
    "Therefore the normalized value process $V^{Z}$ is\n",
    "\n",
    "$$\n",
    "V^{S}(t) = \\sum_{i=0}^{N} h_{i}Z^{i}_{t} = \\frac{V^{S}(t)}{S_{t}^{0}}\n",
    "$$\n",
    "\n",
    "An arbitrage portfolio is a portfolio h such that\n",
    "1. $V^{S}(0) = 0$\n",
    "2. $V^{S}(1) \\geq 0 \\text{ with probability 1 }$\n",
    "3. $P(V^{S}(1)>0)>0$"
   ]
  },
  {
   "cell_type": "markdown",
   "metadata": {},
   "source": [
    "<b>Proposition: </b>The market is free of arbitrage if and only if there exists a probability measure Q on \\Omega such that \n",
    "- $Q(\\omega)>0 \\forall \\omega \\in \\Omega$\n",
    "- $\\frac{S^{i}_{0}}{S^{0}_{0}} = \\E^{Q}[\\frac{S^{i}_{1}}{S^{0}_{1}}] \\forall i\\geq 1$\n",
    "Such a measure Q is called a martingale measure.\n",
    "\n",
    "Notes: \n",
    "The second condition means that the normalized price process Z_{t} is a martingale under Q. Note that different numeraire assets will give rise to different martingale measures.\n",
    "\n",
    "Also note that the larger M is the easier it is to find a martingale measure Q.\n",
    "\n",
    "To do the proof we will use Farkas’ Lemma, which is a special case of the separation theorem for convex sets."
   ]
  },
  {
   "cell_type": "markdown",
   "metadata": {},
   "source": [
    "<b>Definition:</b> Two probability measures P and Q on $(\\Omega, \\mathcal{F})$ are equivalent if\n",
    "\n",
    "$$\n",
    "P(A)=0 \\Leftrightarrow Q(A)=0 \\forall A \\in \\mathcal{F}\n",
    "$$\n",
    "\n",
    "If P and Q are equivalent we write: P ~ Q"
   ]
  },
  {
   "cell_type": "markdown",
   "metadata": {},
   "source": [
    "<b>Definition:</b> Consider the market above and fix the asset S^{0} as the numeraire asset. A probability measure Q on (\\Omega, \\mathcal{F}) is said to be a martingale measure if:\n",
    "- Q ~ P\n",
    "- For every i = 1, ..., N the normalized price process\n",
    "\n",
    "$$\n",
    "Z_{t}^{i}= \\frac{S_{t}^{i}}{S^{t}_{0}}\n",
    "$$\n",
    "\n",
    "is a martingale under Q.\n",
    "\n",
    "<b>Theorem (First Fundamental Theorem)</b>: Given a fixed numeraire, the market is free of arbitrage if and only if there exists a martingale measure."
   ]
  },
  {
   "cell_type": "markdown",
   "metadata": {},
   "source": [
    "# Completeness\n",
    "\n",
    "We continue by studying completeness of the market, i.e. if all derivatives are reachable. The formal definitions are given below.\n",
    "\n",
    "<b>Definition:</b> A financial derivative or cotingent claim is a any random variable defined on $(\\Omega, \\mathcal{F})$. A claim $X$ is said to be reachable if there exists a portfolio $h$ such that  \n",
    "\n",
    "$$\n",
    "\\mathcal{P}(V_{1}^{S}=X) = 1\n",
    "$$\n",
    "\n",
    "The portfolio $h$ is said to be a hedging or replicating portfolio for the claim $X$.\n",
    "\n",
    "<b>Proposition:</b> The market is complete if and only if $A$ has rank $M$.\n",
    "\n",
    "The rows of $A$ is the price vector $S_{1}$ for the different outcomes $\\omega_{i}$\n",
    "\n",
    "<b>Theorem 2 (Second Fundamental Theorem):</b> Assume that the market is free of arbitrage, then the market is complete if and only if the martingale measure is unique.\n",
    "\n",
    "<u>Remark:</u> There are 0,1 or ∞ many martingale measures."
   ]
  },
  {
   "cell_type": "markdown",
   "metadata": {},
   "source": [
    "# Pricing\n",
    "\n",
    "In this section we will only be looking at the value process associated with the unnormalized economy, so here super-index h will be used to indicate which portfolio the value process is associated with. We will do everything for a fixed numeraire asset S0. Assume that the market is free of arbitrage and fix a claim X. If X is reachable by the replicating portfolio h we have for the price of X at time t = 0.\n",
    "\n",
    "Ok. So. The goal is to develop the price of the derivative at time t = 0 so that it is linked to the price at time t = 1 (specifically a martingale).\n",
    "\n",
    "The constraint we have is : \n",
    "\n",
    "$$\n",
    "\\Pi(0; X) = V^{h}(0) = \\sum_{i=0}^{N}h^{i}S_{0}^{i}\n",
    "$$\n",
    "\n",
    "Now, using the proposition of earlier:\n",
    "\n",
    "$$\n",
    "\\frac{S^{i}_{0}}{S^{0}_{0}} = \\E^{Q}[\\frac{S^{i}_{1}}{S^{0}_{1}}] \\forall i\\geq 1\n",
    "$$\n",
    "\n",
    "Injecting this gives us:\n",
    "$$\n",
    "\\Pi(0;X) = V^{h}(0) = \\sum_{i=0}^{N}h^{i}S_{0}^{i} = \\sum_{i=0}^{N}h^{i} S_{0}^{0} E^{Q}[\\frac{S_{1}^{i}}{S_{1}^{0}}]\n",
    "$$\n",
    "\n",
    "Now since h is deterministic we can move it into the expectation, and since expectation is linear we can move the sum into the expectation. Finally using the definition of the value process, and that h replicates X we obtain\n",
    "\n",
    "$$\n",
    "\\Pi(0;X) = S_{0}^{0}E^{Q}[\\sum_{i=0}^{N}h^{i}\\frac{S_{1}^{i}}{S_{1}^{0}}] = S_{0}^{0}E^{Q}[\\frac{V_{1}^{h}}{S_{1}^{0}}] = S_{0}^{0}E^{Q}[\\frac{X}{S_{1}^{0}}] = S_{0}^{0}E^{Q}[\\frac{\\Pi(1;X)}{S_{1}^{0}}]\n",
    "$$\n",
    "\n",
    "Thus, the normalized price of the claim is also a martingale under Q!"
   ]
  },
  {
   "cell_type": "markdown",
   "metadata": {},
   "source": [
    "<b>Proposition:</b> Suppose that the market is free of arbitrage. Then the following hold:\n",
    "\n",
    "1. To extend the market with X and keep it free of arbitrage we have to set\n",
    "\n",
    "$$\n",
    "\\Pi(0;X) = S_{0}^{0}E^{Q}[\\frac{X}{S_{1}^{0}}]\n",
    "$$\n",
    "\n",
    "for some martingale measure Q.\n",
    "\n",
    "2. If X is not reachable different choices of martingale measures for the fixed numeraire give different prices.\n",
    "\n",
    "3. If X is reachable (2) will not depend on the choice of martingale measure Q and\n",
    "\n",
    "$$\n",
    "\\Pi(0;X) = V^{h}(0) \\text{ for all h replicating X}\n",
    "$$"
   ]
  },
  {
   "cell_type": "markdown",
   "metadata": {},
   "source": [
    "# Questions?\n",
    "\n"
   ]
  }
 ],
 "metadata": {
  "kernelspec": {
   "display_name": "Python 2",
   "language": "python",
   "name": "python2"
  },
  "language_info": {
   "codemirror_mode": {
    "name": "ipython",
    "version": 2
   },
   "file_extension": ".py",
   "mimetype": "text/x-python",
   "name": "python",
   "nbconvert_exporter": "python",
   "pygments_lexer": "ipython2",
   "version": "2.7.9"
  }
 },
 "nbformat": 4,
 "nbformat_minor": 1
}
