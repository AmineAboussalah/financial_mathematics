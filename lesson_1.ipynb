{
 "cells": [
  {
   "cell_type": "code",
   "execution_count": 43,
   "metadata": {},
   "outputs": [],
   "source": [
    "from Stock import StockOnePeriod\n",
    "from Bond import BondOnePeriod\n",
    "from Portfolio import Portfolio"
   ]
  },
  {
   "cell_type": "markdown",
   "metadata": {},
   "source": [
    "# A one period model\n",
    "\n",
    "Suppose we want to price an European call option on a stock that matures in six months."
   ]
  },
  {
   "cell_type": "markdown",
   "metadata": {},
   "source": [
    "## Model setup\n",
    "\n",
    "We consider two points in time:\n",
    "- Today: t=0 \n",
    "- Six months from now: t=1\n",
    "\n",
    "<b>Definition:</b> (Arbitrage) Arbitrage pricing is pricing in terms of what is already present on the market.\n",
    "\n",
    "### Bond\n",
    "\n",
    "<b>Definition:</b> (Bond) A bond is a fixed income investment in which an investor loans money to an entity (typically corporate or governmental) which borrows the funds for a defined period of time at a variable or fixed interest rate.\n",
    "\n",
    "Let's consider a bond with price process $B$, whose dynamic is given by:\n",
    "\n",
    "$$\\begin{equation}\n",
    "    B(0) = 1\\\\\n",
    "    B(1) = 1+R\n",
    "\\end{equation}$$\n",
    "\n",
    "where $R$ is the one period interest rate."
   ]
  },
  {
   "cell_type": "code",
   "execution_count": 2,
   "metadata": {},
   "outputs": [],
   "source": [
    "# Define the bond\n",
    "bond = BondOnePeriod(r = 1)"
   ]
  },
  {
   "cell_type": "code",
   "execution_count": 3,
   "metadata": {},
   "outputs": [
    {
     "name": "stdout",
     "output_type": "stream",
     "text": [
      "The bond value is 2.0\n"
     ]
    }
   ],
   "source": [
    "# Compute the bond's value\n",
    "print(\"The bond value is %s\")%(bond.final_value)"
   ]
  },
  {
   "cell_type": "markdown",
   "metadata": {},
   "source": [
    "***\n",
    "### Stock\n",
    "<b>Definition:</b> (Stock) A stock is a type of security that signifies ownership in a corporation and represents a claim on part of the corporation's assets and earnings.\n",
    "\n",
    "Let's consider a stock with price process $S$, whose dynamic is given by:\n",
    "\n",
    "$$\\begin{equation} \n",
    "\\begin{split}\n",
    "S(0) &= s\\\\\n",
    "S(1) &= \n",
    "    \\begin{cases}\n",
    "      s \\cdot u & \\text{with probability } p\\\\\n",
    "      s \\cdot d & \\text{with probability } 1-p\n",
    "    \\end{cases}\n",
    "\\end{split}\n",
    "\\end{equation}$$\n",
    "\n",
    "where we assume that $d<u$. \n",
    "\n",
    "This can be rewritten as $S(1) = s \\cdot Z$, where $Z \\sim Bernoulli(p)$\n",
    "\n",
    "<b>Definition:</b> (Strike price) the price at which a put or call option can be exercised."
   ]
  },
  {
   "cell_type": "code",
   "execution_count": 8,
   "metadata": {},
   "outputs": [],
   "source": [
    "# Define stock\n",
    "stock = StockOnePeriod(s = 100, u = 1.2, d = 0.8, p = 0.8)"
   ]
  },
  {
   "cell_type": "code",
   "execution_count": 9,
   "metadata": {},
   "outputs": [
    {
     "name": "stdout",
     "output_type": "stream",
     "text": [
      "The value of the price process S at time t = 1 is [120.  80.]\n"
     ]
    }
   ],
   "source": [
    "# Compute stock prices at time t = 1\n",
    "print(\"The value of the price process S at time t = 1 is %s\")%(stock.final_value)"
   ]
  },
  {
   "cell_type": "markdown",
   "metadata": {},
   "source": [
    "***\n",
    "### Derivative\n",
    "\n",
    "<b>Definition:</b> A financial derivative or contingent claim is a random variable $X$ of the form:\n",
    "\n",
    "$$X = \\phi(S(1)) \\iff X = \\phi(Z)$$\n",
    "\n",
    "The price at time $t$ of a claim $X$ is denoted by $\\Pi(t;X)=\\Pi_{X}(t)$."
   ]
  },
  {
   "cell_type": "code",
   "execution_count": 11,
   "metadata": {},
   "outputs": [
    {
     "name": "stdout",
     "output_type": "stream",
     "text": [
      "The price of the derivative at time t = 1 on the stock option is [10.  0.]\n"
     ]
    }
   ],
   "source": [
    "# Let's compute the derivative of the option on the stock\n",
    "print(\"The price of the derivative at time t = 1 on the stock option is %s\")%(stock.compute_derivative(k = 110))"
   ]
  },
  {
   "cell_type": "markdown",
   "metadata": {},
   "source": [
    "***\n",
    "## Portfolios, arbitrage, derivatives and completeness\n",
    "\n",
    "To find the correct price of the derivative we are going to compare the payoff of the derivative\n",
    "with the payoff of strategies already present in the market. These strategies are described by\n",
    "portfolios and their value processes.\n",
    "\n",
    "***\n",
    "\n",
    "### Porftolio\n",
    "\n",
    "<b>Definition: (Portfolio)</b> A portfolio $h$ is a vector $(x, y)$, where \n",
    "\n",
    "- $x$ = Number of SEK in your account\n",
    "- $y$ = number of stocks you own\n",
    "\n",
    "The value of the portfolio is given by the value process C defined by:\n",
    "\n",
    "$$\\boxed{V^{h}(t) = X \\cdot B(t) + y \\cdot S(t)}$$\n",
    "\n",
    "<u>Remark:</u> Note that $h \\in \\mathbb{R}^{2}$, which means that you are allowed to go short and can buy/sell\n",
    "as much as you want. Specifically:\n",
    "\n",
    "- If x<0 and y<0: buy + short\n",
    "- If x>0 and y<0: sell + short\n",
    "- If x<0 and y>0: buy + long\n",
    "- If x>0 and y>0: sell + long"
   ]
  },
  {
   "cell_type": "code",
   "execution_count": 29,
   "metadata": {},
   "outputs": [],
   "source": [
    "# Define the portfolio\n",
    "bond = BondOnePeriod(r = 0)\n",
    "stock = StockOnePeriod(s = 100, u = 1.2, d = 0.8, p = 0.8)\n",
    "portfolio = Portfolio(x = -20, y = 0.25, stock = stock, bond = bond)   "
   ]
  },
  {
   "cell_type": "code",
   "execution_count": 30,
   "metadata": {},
   "outputs": [
    {
     "name": "stdout",
     "output_type": "stream",
     "text": [
      "The portfolio is defined by (x, y) = [-20, 0.25]\n"
     ]
    }
   ],
   "source": [
    "print(\"The portfolio is defined by (x, y) = %s\"%([portfolio.x, portfolio.y]))"
   ]
  },
  {
   "cell_type": "code",
   "execution_count": 31,
   "metadata": {},
   "outputs": [
    {
     "name": "stdout",
     "output_type": "stream",
     "text": [
      "The portfolio is replicating: True\n"
     ]
    }
   ],
   "source": [
    "print(\"The portfolio is replicating: %s\"%(portfolio.is_replicating(k = 110)))"
   ]
  },
  {
   "cell_type": "markdown",
   "metadata": {},
   "source": [
    "***\n",
    "### Arbitrage\n",
    "\n",
    "We compare the derivative with the payoff of strategies already present on the market, to have a consistent pricing. Mathematically this requires no arbitrage opportunities exist on the market:\n",
    "\n",
    "<b>Definition: (Arbitrage portfolio)</b> A portfolio $h$ is said to be an arbitrage portfolio if $h$ is such that\n",
    "- $V^{h}(0)=0$\n",
    "- $P(V^{h}(1)\\geq 0) = 1$\n",
    "- $P(V^{h}(1) > 0) > 0$\n",
    "\n",
    "A market is said to be free of arbitrage if there exist no arbitrage portfolio."
   ]
  },
  {
   "cell_type": "code",
   "execution_count": 32,
   "metadata": {},
   "outputs": [
    {
     "name": "stdout",
     "output_type": "stream",
     "text": [
      "The initial value of the portfolio is 5.0\n",
      "The portfolio is therefore not an arbitrage portfolio.\n"
     ]
    }
   ],
   "source": [
    "# Compute intial value of the portfolio\n",
    "print(\"The initial value of the portfolio is %s\")%(portfolio.initial_value)\n",
    "print(\"The portfolio is therefore not an arbitrage portfolio.\")"
   ]
  },
  {
   "cell_type": "markdown",
   "metadata": {},
   "source": [
    "***\n",
    "### Completeness\n",
    "\n",
    "<b>Definition: (Reachable claim)</b> A claim $X$ is said to be reachable if there exists a portfolio $h$ such that:\n",
    "\n",
    "$$P(V^{h}(1) = X)=1$$\n",
    "\n",
    "<b>Definition: (Replicating portfolio)</b> The portfolio $h$ is said to be a replicating portfolio for the claim $X$.\n",
    "\n",
    "<b>Definition: (Complete market)</b> The market is said to be complete if all claims are reachable."
   ]
  },
  {
   "cell_type": "code",
   "execution_count": 33,
   "metadata": {},
   "outputs": [
    {
     "name": "stdout",
     "output_type": "stream",
     "text": [
      "The portfolio is replicating the claim X.\n"
     ]
    }
   ],
   "source": [
    "if(portfolio.is_replicating(k = 110)):\n",
    "    print(\"The portfolio is replicating the claim X.\")"
   ]
  },
  {
   "cell_type": "markdown",
   "metadata": {},
   "source": [
    "***\n",
    "If $X$ is replicated by $h$ then we should have $\\Pi(t;X) = V^{h}(t)$ for $t = 0, 1$\n",
    "\n",
    "<b>Proposition:</b> If the claim $X$ is replicated by the portfolio $h$ then all prices except for \n",
    "\n",
    "$$\\Pi(t;X)=V^{h}(t)$$\n",
    "\n",
    "will give rise to arbitrage opportunities."
   ]
  },
  {
   "cell_type": "code",
   "execution_count": 34,
   "metadata": {},
   "outputs": [
    {
     "name": "stdout",
     "output_type": "stream",
     "text": [
      "The condition is met for t = 1\n"
     ]
    }
   ],
   "source": [
    "if(np.all(portfolio.final_value == stock.derivative)):\n",
    "    print(\"The condition is met for t = 1\")"
   ]
  },
  {
   "cell_type": "code",
   "execution_count": 35,
   "metadata": {},
   "outputs": [
    {
     "name": "stdout",
     "output_type": "stream",
     "text": [
      "Therefore, the price at time t=0 of X should be the initial value of the portfolio 5.0\n"
     ]
    }
   ],
   "source": [
    "print(\"Therefore, the price at time t=0 of X should be the initial value of the portfolio %s\")%portfolio.initial_value"
   ]
  },
  {
   "cell_type": "markdown",
   "metadata": {},
   "source": [
    "***\n",
    "<b>Proposition:</b> The model is complete if $u > d$.\n",
    "\n",
    "<b>Proof:</b>\n",
    "\n",
    "Fix a claim $X = \\phi(Z)$. We need to find a portfolio h suck that $V^{h}(1)=\\phi(Z)$.\n",
    "This translates to:\n",
    "\n",
    "$$\\begin{equation} \n",
    "\\begin{split}\n",
    "(1+R)x + suy &= \\phi(u)\\\\\n",
    "(1+R)x + sdy &= \\phi(d)\n",
    "\\end{split}\n",
    "\\end{equation}$$\n",
    "which is a linear systems of equation, yielding the solution:\n",
    "\n",
    "\n",
    "$$\\begin{equation} \n",
    "\\begin{split}\n",
    "x &= \\frac{1}{1+R} \\cdot \\frac{u\\phi(d)-d\\phi(u)}{u-d}\\\\\n",
    "y &= \\frac{1}{s} \\cdot \\frac{\\phi(u)-\\phi(d)}{u-d}\n",
    "\\end{split}\n",
    "\\end{equation}$$"
   ]
  },
  {
   "cell_type": "code",
   "execution_count": 36,
   "metadata": {},
   "outputs": [],
   "source": [
    "replicating_portfolio = Portfolio(stock, bond, replicating_portfolio = True)"
   ]
  },
  {
   "cell_type": "code",
   "execution_count": 37,
   "metadata": {},
   "outputs": [
    {
     "name": "stdout",
     "output_type": "stream",
     "text": [
      "The portfolio is defined by (x, y) = [20.000000000000004, 0.25000000000000006]\n"
     ]
    }
   ],
   "source": [
    "print(\"The portfolio is defined by (x, y) = %s\"%([replicating_portfolio.x, replicating_portfolio.y]))"
   ]
  },
  {
   "cell_type": "markdown",
   "metadata": {},
   "source": [
    "# Risk neutral validation\n",
    "\n",
    "In a complete model all claims X can be priced according to $$\\boxed{\\Pi_{X}(0)=V^{h}(0)}$$ where the replicating portfolio is given by:\n",
    "\n",
    "$$\\begin{equation} \n",
    "\\begin{split}\n",
    "x &= \\frac{1}{1+R} \\cdot \\frac{u\\phi(d)-d\\phi(u)}{u-d}\\\\\n",
    "y &= \\frac{1}{s} \\cdot \\frac{\\phi(u)-\\phi(d)}{u-d}\n",
    "\\end{split}\n",
    "\\end{equation}$$\n",
    "\n",
    "This means that:\n",
    "\n",
    "$$\\begin{equation} \n",
    "\\begin{split}\n",
    "\\Pi_{X}(0) &= V^{h}(0)\\\\\n",
    "&= xB(0)+yS(0) \\\\\n",
    "&= x+ys \\\\\n",
    "&= \\frac{1}{1+R} \\cdot (q \\cdot \\phi(u) + (1-q) \\cdot \\phi(d))\n",
    "\\end{split}\n",
    "\\end{equation}$$\n",
    "\n",
    "where $q = \\frac{(1+R) - d}{u-d}$.\n",
    "\n",
    "<u>Remark:</u> Prices can be computed as discounted expectations of future payoffs, but you should use the martingale  probabilities Q, rather than objective probabilities P."
   ]
  },
  {
   "cell_type": "code",
   "execution_count": 38,
   "metadata": {},
   "outputs": [
    {
     "name": "stdout",
     "output_type": "stream",
     "text": [
      "The price of the option is 5.0\n"
     ]
    }
   ],
   "source": [
    "# Compute the price of the option that satisfies risk-neutral validation equation\n",
    "print(\"The price of the option is %s\")%(portfolio.price_option(k = 110))"
   ]
  },
  {
   "cell_type": "markdown",
   "metadata": {},
   "source": [
    "## Arbitrage revisited\n",
    "\n",
    "We have been careful to check that we do not introduce arbitrage opportunities when pricing financial derivatives, but we have not checked that there were no arbitrage opportunities to begin with! Rest assured, under mild conditions the model is free of arbitrage.\n",
    "\n",
    "<b> Proposition: </b> The model is free of arbitrage if and only if $d < 1+R < u$\n",
    "\n",
    "The interpretation of the condition d < (1 + R) < u is the return on the stock can not dominate the return on the bond or vice versa."
   ]
  },
  {
   "cell_type": "markdown",
   "metadata": {},
   "source": [
    "# Questions\n",
    "\n",
    "- Are the conditions about an arbitrage portfolio are mild? (2 out of 3 for instance)\n",
    "\n",
    "\n",
    "# To do\n",
    "\n",
    "- Proofs of proposition 1 and 2\n",
    "- Find the definitions of an European call option\n",
    "- Checkthe course on martingales\n"
   ]
  },
  {
   "cell_type": "code",
   "execution_count": null,
   "metadata": {},
   "outputs": [],
   "source": []
  }
 ],
 "metadata": {
  "kernelspec": {
   "display_name": "Python 2",
   "language": "python",
   "name": "python2"
  },
  "language_info": {
   "codemirror_mode": {
    "name": "ipython",
    "version": 2
   },
   "file_extension": ".py",
   "mimetype": "text/x-python",
   "name": "python",
   "nbconvert_exporter": "python",
   "pygments_lexer": "ipython2",
   "version": "2.7.9"
  }
 },
 "nbformat": 4,
 "nbformat_minor": 1
}
