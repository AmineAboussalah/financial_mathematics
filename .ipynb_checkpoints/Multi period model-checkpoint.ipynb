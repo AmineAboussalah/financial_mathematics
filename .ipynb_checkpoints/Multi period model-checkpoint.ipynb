{
 "cells": [
  {
   "cell_type": "code",
   "execution_count": 2,
   "metadata": {},
   "outputs": [],
   "source": [
    "from Bond import BondMultiPeriod\n",
    "from Stock import StockMultiPeriod"
   ]
  },
  {
   "cell_type": "markdown",
   "metadata": {},
   "source": [
    "# Introduction <a class=\"anchor\" id=\"introduction\"></a>\n",
    "\n",
    "## Table of content\n",
    "* [Introduction](#introduction)\n",
    "    * [Goal](#goal)\n",
    "    * [Model setup](#model_setup)\n",
    "        * [Bond](#bond)\n",
    "        * [Derivative](#derivative)\n",
    "        * [Stock](#stock)\n",
    "* [Pricing](#pricing)\n",
    "* [Arbitrage and completeness](#arbitrage_completeness)\n",
    "    * [Arbitrage](#arbitrage)\n",
    "    * [Completeness](#completeness)\n",
    "\n",
    "***\n",
    "## Goal <a class=\"anchor\" id=\"goal\"></a>\n",
    "\n",
    "The goal of this notebook is to generalize the one period model and its properties.\n",
    "\n",
    "We will:\n",
    "\n",
    "1. Define the model setup (tree)\n",
    "    - Bond\n",
    "    - Stock\n",
    " \n",
    "2. Arbitrage and completeness\n",
    "3. Pricing\n",
    "\n",
    "***\n",
    "## Model setup <a class=\"anchor\" id=\"model_setup\"></a>\n",
    "\n",
    "As in the one period model, we consider a bond and a stock. \n",
    "\n",
    "### Bond <a class=\"anchor\" id=\"bond\"></a>"
   ]
  },
  {
   "cell_type": "code",
   "execution_count": 3,
   "metadata": {},
   "outputs": [
    {
     "name": "stdout",
     "output_type": "stream",
     "text": [
      "At t = 1, the bond is worth 1.0\n",
      "At t = 2, the bond is worth 1.1\n",
      "At t = 3, the bond is worth 1.21\n",
      "At t = 4, the bond is worth 1.33\n"
     ]
    }
   ],
   "source": [
    "# Define multi period bond\n",
    "bond = BondMultiPeriod(r = 0.1, T = 4)\n",
    "\n",
    "# Bond values\n",
    "for i in range(0, len(bond.values)):\n",
    "    print(\"At t = %s, the bond is worth %s\")%(i+1, bond.values[i])"
   ]
  },
  {
   "cell_type": "markdown",
   "metadata": {},
   "source": [
    "### Derivative <a class=\"anchor\" id=\"derivative\"></a>\n",
    "\n",
    "<b>Definition: (derivative)</b> A financial derivative or contingent claim is a random variable of the form\n",
    "\n",
    "$$ X = \\phi(S_{T}) $$\n",
    "\n",
    "where the contract function $\\phi$ is a real valued function.\n",
    "\n",
    "### Stock <a class=\"anchor\" id=\"stock\"></a>"
   ]
  },
  {
   "cell_type": "code",
   "execution_count": 4,
   "metadata": {},
   "outputs": [
    {
     "name": "stdout",
     "output_type": "stream",
     "text": [
      "At t=1: S-0 = 80\n",
      "At t=2: S-1 = [120.  40.]\n",
      "At t=3: S-2 = [180.  60.  20.]\n",
      "At t=4: S-3 = [270.  90.  30.  10.]\n"
     ]
    }
   ],
   "source": [
    "# Defining a stock\n",
    "stock = StockMultiPeriod(s = 80, u = 1.5, d = 0.5, p = 0.6, T = 3)\n",
    "# Forward stock value process\n",
    "for i in range(0, len(stock.values)):\n",
    "    print(\"At t=%s: S-%s = %s\")%(i+1, i, stock.values[i])"
   ]
  },
  {
   "cell_type": "code",
   "execution_count": 5,
   "metadata": {},
   "outputs": [
    {
     "name": "stdout",
     "output_type": "stream",
     "text": [
      "The derivative: (t=3): [190.  10.   0.   0.]\n"
     ]
    }
   ],
   "source": [
    "# Compute a derivative with strike price K = 80 on the stock\n",
    "print(\"The derivative: (t=%s): %s\")%(stock.T, stock.compute_derivative(k = 80))"
   ]
  },
  {
   "cell_type": "markdown",
   "metadata": {},
   "source": [
    "# Pricing <a class=\"anchor\" id=\"pricing\"></a>\n",
    "\n",
    "If $X = \\phi(S_{T})$ is replicated by the portfolio h then:\n",
    "\n",
    "$$\n",
    "\\Pi(t;X) = V_{h}^{t} \\text{t=0, ..., T}\n",
    "$$\n",
    "\n",
    "The replicating portfolio is given by\n",
    "\n",
    "$$\\begin{equation} \n",
    "\\begin{cases}\n",
    "  x_{t}(k) = \\frac{1}{1+R} \\frac{u V_{t}(k) - d V_{t}(k+1)}{u-d} \\\\\n",
    "  y_{t}(k) = \\frac{1}{S_{t-1}} \\frac{V_{t}(k+1) - V_{t}(k)}{u-d}\n",
    "\\end{cases}\n",
    "\\end{equation}$$\n",
    "\n",
    "From the above algorithm and how the portfolio value is computed we can obtain a risk neutral valuation formula."
   ]
  },
  {
   "cell_type": "code",
   "execution_count": 6,
   "metadata": {},
   "outputs": [
    {
     "name": "stdout",
     "output_type": "stream",
     "text": [
      "t=1: Pi-0 = [27.5]\n",
      "t=2: Pi-1 = [52.5  2.5]\n",
      "t=3: Pi-2 = [100.   5.   0.]\n",
      "t=4: Pi-3 = [190.  10.   0.   0.]\n"
     ]
    }
   ],
   "source": [
    "# Price the options by computing risk neutral validations equations backward\n",
    "stock.price_option(k = 80, r = 0)\n",
    "for i in range(0, len(stock.prices)):\n",
    "    print(\"t=%s: Pi-%s = %s\")%(i+1, i, stock.prices[i])"
   ]
  },
  {
   "cell_type": "markdown",
   "metadata": {},
   "source": [
    "<b>Proposition</b> The arbitrage free price at t = 0 of the claim X is given by\n",
    "\n",
    "$$\n",
    "\\Pi(0;X)=V_{0}=\\frac{1}{(1+R)^{T}}E^{Q}[X]\n",
    "$$\n",
    "\n",
    "where Q denotes the martingale measure. More explicitely, this formula is given by:\n",
    "\n",
    "$$\n",
    "\\Pi(0;X)=V_{0}=\\frac{1}{(1+R)^{T}}\\sum_{k=0}^{T}\\binom{T}{k}q^{k}(1-q)^{T-k}\\phi(s u^{k} d^{T-k})\n",
    "$$"
   ]
  },
  {
   "cell_type": "markdown",
   "metadata": {},
   "source": [
    "# Arbitrage and completeness <a class=\"anchor\" id=\"arbitrage_completeness\"></a>\n",
    "\n",
    "## Arbitrage <a class=\"anchor\" id=\"arbitrage\"></a>\n",
    "\n",
    "<b>Definition: (Portfolio)</b> A portfolio strategy is a stochastic process \n",
    "\n",
    "$$ \\{ h_{t} = (x_{t}, y_{t}); t = 1, ..., T \\} $$\n",
    "\n",
    "such that $h_{t}\\in \\sigma\\{ S_{0}, ..., S_{t-1} \\}$.\n",
    "\n",
    "By convention: $h_{0} = h_{1}$. We have that:\n",
    "\n",
    "- $x_{t}$ number of SEK in the bank $(t-1, t]$\n",
    "- $y_{t}$ number of stocks you own $(t-1, t]$\n",
    "\n",
    "<b>Definition: (Value process)</b> Value process $V^{h}$ corresponding to the portfolio strategy $h$ is given by  $$ V_{t}^{h}=x_{t}(1+R) + y_{t}S_{t} $$\n",
    "\n",
    "<b>Definition: (Self financing)</b> Self financing if $$ x_{t}(1+R) = y_{t}S_{t} = x_{t+1} + y_{t+1}S_{t} $$\n",
    "\n",
    "<b>Definition: (Arbitrage portfolio)</b> Arbitrage portfolio if $h$ is self-financing and\n",
    "\n",
    "- $V^{h}(0)=0$\n",
    "- $P(V^{h}_{T}(1)\\geq 0) = 1$\n",
    "\n",
    "- $P(V^{h}_{T}(1) > 0) > 0$"
   ]
  },
  {
   "cell_type": "code",
   "execution_count": 8,
   "metadata": {},
   "outputs": [
    {
     "name": "stdout",
     "output_type": "stream",
     "text": [
      "At t=1: x = [-22.5]\n",
      "At t=2: x = [-42.5  -2.5]\n",
      "At t=3: x = [-80.  -5.   0.]\n",
      "At t=1: y = [0.625]\n",
      "At t=2: y = [0.79166667 0.125     ]\n",
      "At t=3: y = [1.         0.16666667 0.        ]\n"
     ]
    }
   ],
   "source": [
    "# Compute the replicating portfolio forward (?)\n",
    "x, y = stock.compute_portfolio(0)\n",
    "\n",
    "for i in range(0, len(x)):\n",
    "    print(\"At t=%s: x = %s\")%(i+1, x[i])\n",
    "    \n",
    "for i in range(0, len(y)):\n",
    "    print(\"At t=%s: y = %s\")%(i+1, y[i])"
   ]
  },
  {
   "cell_type": "markdown",
   "metadata": {},
   "source": [
    "***\n",
    "## Completeness <a class=\"anchor\" id=\"completeness\"></a>\n",
    "\n",
    "The claim $X = \\phi(S_{T})$ is reachable if there exists a self-financing portfolio strategy such that  $$ V_{T}^{h} = \\phi(S_{T}) \\text{ with probability 1} $$\n",
    "\n",
    "If such a portfolio $h$ exists is said to be a hedging or replicating portfolio for the claim $X$.\n",
    "\n",
    "<b>Proposition</b> The model is free of arbitrage if and only if: $d < 1+R < u$\n",
    "\n",
    "<b>Definition</b> Q is a martingale measure if \n",
    "- $0 < q < 1 \\text{ (means) } Q \\sim P$\n",
    "- $s=\\frac{1}{1+R}E^{Q}[S_{t+1}\\mid S_{t}=s]$\n",
    "\n",
    "<b>Proposition</b> The martingale probabilities are given by $$ (q = \\frac{1+R - d}{u-d}, 1-q) $$\n",
    "\n",
    "<b>Central Proposition</b> The multiperiod binomial model is complete (i.e. all claims are reachable)"
   ]
  },
  {
   "cell_type": "markdown",
   "metadata": {},
   "source": [
    "# Questions \n",
    "\n",
    "- Why do we need to define a bond to say id a model is free of arbitrage?"
   ]
  },
  {
   "cell_type": "code",
   "execution_count": null,
   "metadata": {},
   "outputs": [],
   "source": []
  }
 ],
 "metadata": {
  "kernelspec": {
   "display_name": "Python 2",
   "language": "python",
   "name": "python2"
  },
  "language_info": {
   "codemirror_mode": {
    "name": "ipython",
    "version": 2
   },
   "file_extension": ".py",
   "mimetype": "text/x-python",
   "name": "python",
   "nbconvert_exporter": "python",
   "pygments_lexer": "ipython2",
   "version": "2.7.9"
  }
 },
 "nbformat": 4,
 "nbformat_minor": 1
}
