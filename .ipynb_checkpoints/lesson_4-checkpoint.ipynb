{
 "cells": [
  {
   "cell_type": "markdown",
   "metadata": {},
   "source": [
    "# Multi period model\n",
    "\n",
    "The goal of this notebook is to generalize the one period model and its properties.\n",
    "\n",
    "We will:\n",
    "\n",
    "1. Define the model setup (tree)\n",
    "    - Bond\n",
    "    - Stock\n",
    " \n",
    "2. Arbitrage and completeness\n",
    "3. Pricing"
   ]
  },
  {
   "cell_type": "markdown",
   "metadata": {},
   "source": [
    "# Model setup\n",
    "\n",
    "As in the one period model, we consider a bond and a stock. "
   ]
  },
  {
   "cell_type": "code",
   "execution_count": 1,
   "metadata": {},
   "outputs": [],
   "source": [
    "class BondMultiPeriod:\n",
    "\n",
    "    \"\"\"\n",
    "    Parameters:\n",
    "    - r: (Float) interest rate of the bond\n",
    "    - T: (int) period\n",
    "\n",
    "    Attributes:\n",
    "    - initial_value: (Float)\n",
    "    - final_value: (Float)\n",
    "    \"\"\"\n",
    "\n",
    "    def __init__(self, r, T):\n",
    "        self.r = r\n",
    "        self.T = T\n",
    "        self.values = [None]*T\n",
    "\n",
    "        self.values[0] = 1\n",
    "\n",
    "        for i in range(1, T):\n",
    "            self.values[i] = self.values[i-1]*(1+self.r)\n",
    "            self.values[i] = round(self.values[i], 2)"
   ]
  },
  {
   "cell_type": "code",
   "execution_count": 2,
   "metadata": {},
   "outputs": [],
   "source": [
    "bond = BondMultiPeriod(0.1, 4)"
   ]
  },
  {
   "cell_type": "code",
   "execution_count": 3,
   "metadata": {},
   "outputs": [
    {
     "data": {
      "text/plain": [
       "[1, 1.1, 1.21, 1.33]"
      ]
     },
     "execution_count": 3,
     "metadata": {},
     "output_type": "execute_result"
    }
   ],
   "source": [
    "bond.values"
   ]
  },
  {
   "cell_type": "markdown",
   "metadata": {},
   "source": [
    "<b>Definition: (derivative)</b> A financial derivative or contingent claim is a random variable of the form\n",
    "\n",
    "$$ X = \\phi(S_{T}) $$\n",
    "\n",
    "where the contract function $\\phi$ is a real valued function."
   ]
  },
  {
   "cell_type": "code",
   "execution_count": 4,
   "metadata": {},
   "outputs": [],
   "source": [
    "import numpy as np\n",
    "class StockMultiPeriod:\n",
    "    \"\"\"\n",
    "    In this class, we only consider (at the moment) European call option.\n",
    "\n",
    "    Parameters:\n",
    "    - s: initial value of the stock\n",
    "    - u, d: (upward factor, downward factor) possible values at time t=1\n",
    "    - p: probability that the upward factor is activated\n",
    "\n",
    "    Attributes:\n",
    "    - initial_value: initial value of the stock at time t = 0\n",
    "    - final_value: possible values of the stock at time t = 1\n",
    "    - k: strike price of the option (is defined)\n",
    "    - derivative: payoffs at time t = 1 (with respect to k)\n",
    "    \"\"\"\n",
    "    def __init__(self, s, u, d, p, T):\n",
    "        \"\"\"\n",
    "        Set the parameters s, u, p, d and compute the initial and final values.\n",
    "        \"\"\"\n",
    "        # Define the binomial model\n",
    "        self.u = float(u)\n",
    "        self.d = float(d)\n",
    "        self.p = float(p)\n",
    "        self.T = T\n",
    "\n",
    "        # Compute initial and final values\n",
    "        self.values = [None]*(T+1)\n",
    "        self.values[0] = s\n",
    "\n",
    "        for i in range(1, T+1):\n",
    "            self.values[i] = np.asarray([self.u * self.values[i-1], \\\n",
    "                                       self.d * self.values[i-1]])\n",
    "            self.values[i] = np.sort(np.unique(self.values[i].ravel()))[::-1]\n",
    "            \n",
    "    def compute_derivative(self, k):\n",
    "        \"\"\"\n",
    "        The derivative is the difference between the possible values of the stock\n",
    "        at time t = 1 and the strike price.\n",
    "        Careful: Valid only for European call option\n",
    "        \"\"\"\n",
    "        # Define the strike price at which the option exercices\n",
    "        self.k = k\n",
    "        # Compute the derivative\n",
    "        self.derivative = np.maximum(self.values[self.T]-self.k, 0)\n",
    "        return(self.derivative)\n",
    "    \n",
    "    def backward_computation(self, k, r):\n",
    "        \"\"\"\n",
    "        The objective is to price the option at time t = 0. To do so, we use the \n",
    "        risk neutral valuation that we compute one step at a time (with the martingales!).\n",
    "        \"\"\"\n",
    "        # Compute q\n",
    "        q = ((1+r)-self.d)/(self.u-self.d)\n",
    "        \n",
    "        # Allocate the pricing steps and set the last one\n",
    "        self.pricing = [None]*(self.T+1)\n",
    "        self.pricing[self.T] = self.compute_derivative(k)\n",
    "        \n",
    "        # Compute backward\n",
    "        for i in reversed(range(1, self.T+1)):\n",
    "            self.pricing[i-1] = np.zeros(i)\n",
    "            for j in range(0, i):\n",
    "                self.pricing[i-1][j] = (1/(1+r))*(np.mean(self.pricing[i][j: j+2]))\n",
    "                \n",
    "    def compute_portfolio(self, r):\n",
    "        x = [None]*(self.T)\n",
    "        y = [None]*(self.T)\n",
    "        \n",
    "        for i in range(0, self.T):\n",
    "            x[i] = np.zeros(i+1)\n",
    "            y[i] = np.zeros(i+1)\n",
    "            for j in range(0, i+1):\n",
    "                if i==0:\n",
    "                    y[i][j] = (1/float(self.values[i]))*((self.pricing[i+1][j] - self.pricing[i+1][j+1])/(self.u-self.d))\n",
    "                else:\n",
    "                    y[i][j] = (1/self.values[i][j])*((self.pricing[i+1][j] - self.pricing[i+1][j+1])/(self.u-self.d))\n",
    "                \n",
    "                x[i][j] = (1/(1+r))*((self.u*self.pricing[i+1][j+1] - self.d*self.pricing[i+1][j])/(self.u-self.d))\n",
    "                \n",
    "        return(x, y)"
   ]
  },
  {
   "cell_type": "code",
   "execution_count": 5,
   "metadata": {},
   "outputs": [],
   "source": [
    "stock = StockMultiPeriod(80, 1.5, 0.5, 0.6, 3)"
   ]
  },
  {
   "cell_type": "code",
   "execution_count": 6,
   "metadata": {},
   "outputs": [
    {
     "data": {
      "text/plain": [
       "[80,\n",
       " array([120.,  40.]),\n",
       " array([180.,  60.,  20.]),\n",
       " array([270.,  90.,  30.,  10.])]"
      ]
     },
     "execution_count": 6,
     "metadata": {},
     "output_type": "execute_result"
    }
   ],
   "source": [
    "stock.values"
   ]
  },
  {
   "cell_type": "code",
   "execution_count": 7,
   "metadata": {},
   "outputs": [
    {
     "data": {
      "text/plain": [
       "array([190.,  10.,   0.,   0.])"
      ]
     },
     "execution_count": 7,
     "metadata": {},
     "output_type": "execute_result"
    }
   ],
   "source": [
    "stock.compute_derivative(80)"
   ]
  },
  {
   "cell_type": "code",
   "execution_count": 8,
   "metadata": {},
   "outputs": [
    {
     "data": {
      "text/plain": [
       "[array([27.5]),\n",
       " array([52.5,  2.5]),\n",
       " array([100.,   5.,   0.]),\n",
       " array([190.,  10.,   0.,   0.])]"
      ]
     },
     "execution_count": 8,
     "metadata": {},
     "output_type": "execute_result"
    }
   ],
   "source": [
    "stock.backward_computation(80, 0)\n",
    "stock.pricing"
   ]
  },
  {
   "cell_type": "code",
   "execution_count": 9,
   "metadata": {},
   "outputs": [],
   "source": [
    "x, y = stock.compute_portfolio(0)"
   ]
  },
  {
   "cell_type": "code",
   "execution_count": 10,
   "metadata": {},
   "outputs": [
    {
     "data": {
      "text/plain": [
       "[array([-22.5]), array([-42.5,  -2.5]), array([-80.,  -5.,   0.])]"
      ]
     },
     "execution_count": 10,
     "metadata": {},
     "output_type": "execute_result"
    }
   ],
   "source": [
    "x"
   ]
  },
  {
   "cell_type": "code",
   "execution_count": 11,
   "metadata": {},
   "outputs": [
    {
     "data": {
      "text/plain": [
       "[array([0.625]),\n",
       " array([0.79166667, 0.125     ]),\n",
       " array([1.        , 0.16666667, 0.        ])]"
      ]
     },
     "execution_count": 11,
     "metadata": {},
     "output_type": "execute_result"
    }
   ],
   "source": [
    "y"
   ]
  },
  {
   "cell_type": "markdown",
   "metadata": {},
   "source": [
    "# Arbitrage and completeness\n",
    "\n",
    "<b>Definition</b> A portfolio strategy is a stochastic process \n",
    "\n",
    "$$ \\{ h_{t} = (x_{t}, y_{t}); t = 1, ..., T \\} $$\n",
    "\n",
    "such that $h_{t}\\in \\sigma\\{ S_{0}, ..., S_{t-1} \\}$.\n",
    "\n",
    "By convention: $h_{0} = h_{1}$. We have that:\n",
    "\n",
    "- $x_{t}$ number of SEK in the bank $(t-1, t]$\n",
    "- $y_{t}$ number of stocks you own $(t-1, t]$\n",
    "\n",
    "The value process $V^{h}$ corresponding to the portfolio strategy $h$ is given by \n",
    "\n",
    "$$\n",
    "V_{t}^{h}=x_{t}(1+R) + y_{t}S_{t}\n",
    "$$\n",
    "\n",
    "A portfolio strategy $h$ is self financing if \n",
    "\n",
    "$$\n",
    "x_{t}(1+R) = y_{t}S_{t} = x_{t+1} + y_{t+1}S_{t}\n",
    "$$\n",
    "\n",
    "A portfolio strategy $h$ is said to be an arbitrage portfolio if $h$ is self-financing and\n",
    "\n",
    "- $V^{h}(0)=0$\n",
    "- $P(V^{h}_{T}(1)\\geq 0) = 1$\n",
    "- $P(V^{h}_{T}(1) > 0) > 0$\n",
    "\n",
    "The claim $X = \\phi(S_{T})$ is reachable if there exists a self-financing portfolio strategy such that \n",
    "\n",
    "$$\n",
    "V_{T}^{h} = \\phi(S_{T}) \\text{ with probability 1}\n",
    "$$\n",
    "\n",
    "If such a portfolio h exists is said to be a hedging or replicating portfolio for the claim X.\n",
    "\n",
    "<b>Proposition</b> The model is free of arbitrage if and only if: d < 1+R < u\n",
    "\n",
    "<b>Definition</b> Q is a martingale measure if \n",
    "- 0 < q < 1 (means Q ∼ P)\n",
    "- $s=\\frac{1}{1+R}E^{Q}[S_{t+1}\\mid S_{t}=s]$\n",
    "\n",
    "<b>Proposition</b> The martingale probabilities are given by\n",
    "\n",
    "$$\n",
    "q = \\frac{1+R - d}{u-d}\n",
    "$$\n",
    "and 1-q\n",
    "\n",
    "<b>Proposition</b> The multiperiod binomial model is complete (i.e. all claims are reachable)"
   ]
  },
  {
   "cell_type": "markdown",
   "metadata": {},
   "source": [
    "# Pricing\n",
    "\n",
    "If $X = \\phi(S_{T})$ is replicated by the portfolio h then:\n",
    "\n",
    "$$\n",
    "\\Pi(t;X) = V_{h}^{t} \\text{t=0, ..., T}\n",
    "$$\n",
    "\n",
    "The replicating portfolio is given by\n",
    "\n",
    "$$\\begin{equation} \n",
    "\\begin{cases}\n",
    "  x_{t}(k) = \\frac{1}{1+R} \\frac{u V_{t}(k) - d V_{t}(k+1)}{u-d} \\\\\n",
    "  y_{t}(k) = \\frac{1}{S_{t-1}} \\frac{V_{t}(k+1) - V_{t}(k)}{u-d}\n",
    "\\end{cases}\n",
    "\\end{equation}$$\n",
    "\n",
    "From the above algorithm and how the portfolio value is computed we can obtain a risk neutral valuation formula.\n",
    "\n",
    "<b>Proposition</b> The arbitrage free price at t = 0 of the claim X is given by\n",
    "\n",
    "$$\n",
    "\\Pi(0;X)=V_{0}=\\frac{1}{(1+R)^{T}}E^{Q}[X]\n",
    "$$\n",
    "\n",
    "where Q denotes the martingale measure. More explicitely, this formula is given by:\n",
    "\n",
    "$$\n",
    "\\Pi(0;X)=V_{0}=\\frac{1}{(1+R)^{T}}\\sum_{k=0}^{T}\\binom{T}{k}q^{k}(1-q)^{T-k}\\phi(s u^{k} d^{T-k})\n",
    "$$"
   ]
  },
  {
   "cell_type": "code",
   "execution_count": null,
   "metadata": {},
   "outputs": [],
   "source": []
  }
 ],
 "metadata": {
  "kernelspec": {
   "display_name": "Python 2",
   "language": "python",
   "name": "python2"
  },
  "language_info": {
   "codemirror_mode": {
    "name": "ipython",
    "version": 2
   },
   "file_extension": ".py",
   "mimetype": "text/x-python",
   "name": "python",
   "nbconvert_exporter": "python",
   "pygments_lexer": "ipython2",
   "version": "2.7.9"
  }
 },
 "nbformat": 4,
 "nbformat_minor": 1
}
